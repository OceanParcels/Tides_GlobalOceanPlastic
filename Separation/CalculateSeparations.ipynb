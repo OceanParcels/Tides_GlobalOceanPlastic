{
 "cells": [
  {
   "cell_type": "markdown",
   "metadata": {},
   "source": [
    "# Calculating the separation of particle pairs in runs with and without tides, for GC+FES as well as GC+FES30"
   ]
  },
  {
   "cell_type": "markdown",
   "metadata": {},
   "source": [
    "*Author: Miriam Sterl*"
   ]
  },
  {
   "cell_type": "markdown",
   "metadata": {},
   "source": [
    "Consider pairs of particles in the run with tides and the run without tides that were released at the same location. The *separation* of this pair after a certain amount of time is the distance between the locations of the particles in the two different runs at that time. Here we compute the separation of particle pairs in the GC run and the GC+FES run, and also in the GC run and the GC+FES30 run."
   ]
  },
  {
   "cell_type": "code",
   "execution_count": null,
   "metadata": {},
   "outputs": [],
   "source": [
    "from netCDF4 import Dataset\n",
    "import numpy as np\n",
    "import math"
   ]
  },
  {
   "cell_type": "code",
   "execution_count": null,
   "metadata": {},
   "outputs": [],
   "source": [
    "File1 = '/science/projects/oceanparcels/output_data/data_Miriam/Results_TrackingGC.nc'\n",
    "dataset1 = Dataset(File1)\n",
    "lat1 = dataset1.variables['lat'][:]\n",
    "lon1 = dataset1.variables['lon'][:]\n",
    "time1 = dataset1.variables['time'][:]\n",
    "dist1 = dataset1.variables['distance'][:]\n",
    "lon1[lon1>180]-=360\n",
    "lon1[lon1<-180]+=360\n",
    "\n",
    "File2 = '/science/projects/oceanparcels/output_data/data_Miriam/Results_TrackingGCFES.nc'\n",
    "dataset2 = Dataset(File2)\n",
    "lat2 = dataset2.variables['lat'][:]\n",
    "lon2 = dataset2.variables['lon'][:]\n",
    "time2 = dataset2.variables['time'][:]\n",
    "dist2 = dataset2.variables['distance'][:]\n",
    "lon2[lon2>180]-=360\n",
    "lon2[lon2<-180]+=360\n",
    "\n",
    "File3 = '/science/projects/oceanparcels/output_data/data_Miriam/Results_TrackingGCFES30.nc'\n",
    "dataset3 = Dataset(File3)\n",
    "lat3 = dataset3.variables['lat'][:]\n",
    "lon3 = dataset3.variables['lon'][:]\n",
    "time3 = dataset3.variables['time'][:]\n",
    "dist3 = dataset3.variables['distance'][:]\n",
    "lon3[lon3>180]-=360\n",
    "lon3[lon3<-180]+=360"
   ]
  },
  {
   "cell_type": "code",
   "execution_count": null,
   "metadata": {},
   "outputs": [],
   "source": [
    "def Haversine(lat1, lon1, lat2, lon2):\n",
    "    \"\"\"\n",
    "    Haversine formula: determines the great-circle distance in km between two points on the (spherical) Earth given in lon/lat\n",
    "    Formula from http://www.faqs.org/faqs/geography/infosystems-faq/ or more specifically,\n",
    "    from R.W. Sinnott, \"Virtues of the Haversine\", Sky and Telescope, vol. 68, no. 2, 1984, p. 159\n",
    "    \"\"\"\n",
    "    deg2rad = math.pi / 180.0\n",
    "    R = 6371 # Earth radius in km\n",
    "    dlat = (lat2 - lat1) * deg2rad # latitudinal distance in radians\n",
    "    dlon = (lon2 - lon1) * deg2rad # longitudinal distance in radians\n",
    "    h = (math.sin(dlat/2))**2 + math.cos(lat1 * deg2rad) * math.cos(lat2 * deg2rad) * (math.sin(dlon/2))**2\n",
    "    d = 2 * R * math.asin(min(1,math.sqrt(h))) # min of 1 and sqrt(h) to protect from roundoff errors for antipodal points\n",
    "    return d"
   ]
  },
  {
   "cell_type": "code",
   "execution_count": null,
   "metadata": {},
   "outputs": [],
   "source": [
    "startLons = lon1[:,0] # the initial longitudes on 2002-01-01\n",
    "startLats = lat1[:,0] # the initial latitudes on 2002-01-01\n",
    "startLons.dump('StartLons')\n",
    "startLats.dump('StartLats')"
   ]
  },
  {
   "cell_type": "code",
   "execution_count": null,
   "metadata": {},
   "outputs": [],
   "source": [
    "# For the GC+FES run\n",
    "sep1 = np.zeros(lon1.shape[0])\n",
    "sep2 = np.zeros(lon1.shape[0])\n",
    "sep3 = np.zeros(lon1.shape[0])\n",
    "\n",
    "for i in range(lon1.shape[0]):\n",
    "    sep1[i] = Haversine(lat1[i,45], lon1[i,45], lat2[i,45], lon2[i,45]) # separation on 2002-04-01 (after 3 months)\n",
    "    sep2[i] = Haversine(lat1[i,182], lon1[i,182], lat2[i,182], lon2[i,182]) # separation on 2002-12-31 (after 1 year)\n",
    "    sep3[i] = Haversine(lat1[i,-1], lon1[i,-1], lat2[i,-1], lon2[i,-1]) # separation on 2015-01-01 (after 13 years)\n",
    "    \n",
    "sep1.dump('/science/projects/oceanparcels/output_data/data_Miriam/Separation1_3months')\n",
    "sep2.dump('/science/projects/oceanparcels/output_data/data_Miriam/Separation2_1year')\n",
    "sep3.dump('/science/projects/oceanparcels/output_data/data_Miriam/Separation3_13years')"
   ]
  },
  {
   "cell_type": "code",
   "execution_count": null,
   "metadata": {},
   "outputs": [],
   "source": [
    "# For the GC+FES30 run\n",
    "sep4 = np.zeros(lon1.shape[0])\n",
    "sep5 = np.zeros(lon1.shape[0])\n",
    "sep6 = np.zeros(lon1.shape[0])\n",
    "\n",
    "for i in range(lon1.shape[0]):\n",
    "    sep4[i] = Haversine(lat1[i,45], lon1[i,45], lat3[i,45], lon3[i,45]) # separation on 2002-04-01 (after 3 months)\n",
    "    sep5[i] = Haversine(lat1[i,182], lon1[i,182], lat3[i,182], lon3[i,182]) # separation on 2002-12-31 (after 1 year)\n",
    "    sep6[i] = Haversine(lat1[i,-1], lon1[i,-1], lat3[i,-1], lon3[i,-1]) # separation on 2015-01-01 (after 13 years)\n",
    "    \n",
    "sep4.dump('/science/projects/oceanparcels/output_data/data_Miriam/Separation1_3months_Tides30Days')\n",
    "sep5.dump('/science/projects/oceanparcels/output_data/data_Miriam/Separation2_1year_Tides30Days')\n",
    "sep6.dump('/science/projects/oceanparcels/output_data/data_Miriam/Separation3_13years_Tides30Days')"
   ]
  }
 ],
 "metadata": {
  "kernelspec": {
   "display_name": "Python 2",
   "language": "python",
   "name": "python2"
  },
  "language_info": {
   "codemirror_mode": {
    "name": "ipython",
    "version": 2
   },
   "file_extension": ".py",
   "mimetype": "text/x-python",
   "name": "python",
   "nbconvert_exporter": "python",
   "pygments_lexer": "ipython2",
   "version": "2.7.15"
  }
 },
 "nbformat": 4,
 "nbformat_minor": 2
}
