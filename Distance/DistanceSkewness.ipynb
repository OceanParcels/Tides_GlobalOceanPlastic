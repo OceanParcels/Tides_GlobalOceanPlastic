{
 "cells": [
  {
   "cell_type": "markdown",
   "metadata": {},
   "source": [
    "# Statistics of differences in distance travelled"
   ]
  },
  {
   "cell_type": "markdown",
   "metadata": {},
   "source": [
    "*Author: Miriam Sterl*"
   ]
  },
  {
   "cell_type": "markdown",
   "metadata": {},
   "source": [
    "Statistics about the mean and relative differences in distance travelled and about the skewness of the distance difference distributions."
   ]
  },
  {
   "cell_type": "code",
   "execution_count": 1,
   "metadata": {},
   "outputs": [],
   "source": [
    "from netCDF4 import Dataset\n",
    "import numpy as np\n",
    "import scipy.stats as stat"
   ]
  },
  {
   "cell_type": "code",
   "execution_count": null,
   "metadata": {},
   "outputs": [],
   "source": [
    "File1 = '/science/projects/oceanparcels/output_data/data_Miriam/Results_TrackingGC.nc'\n",
    "dataset1 = Dataset(File1)\n",
    "lat1 = dataset1.variables['lat'][:]\n",
    "lon1 = dataset1.variables['lon'][:]\n",
    "time1 = dataset1.variables['time'][:]\n",
    "dist1 = dataset1.variables['distance'][:]\n",
    "lon1[lon1>180]-=360\n",
    "lon1[lon1<-180]+=360\n",
    "\n",
    "File2 = '/science/projects/oceanparcels/output_data/data_Miriam/Results_TrackingGCFES.nc'\n",
    "dataset2 = Dataset(File2)\n",
    "lat2 = dataset2.variables['lat'][:]\n",
    "lon2 = dataset2.variables['lon'][:]\n",
    "time2 = dataset2.variables['time'][:]\n",
    "dist2 = dataset2.variables['distance'][:]\n",
    "lon2[lon2>180]-=360\n",
    "lon2[lon2<-180]+=360\n",
    "\n",
    "File3 = '/science/projects/oceanparcels/output_data/data_Miriam/Results_TrackingGCFES30.nc'\n",
    "dataset3 = Dataset(File3)\n",
    "lat3 = dataset3.variables['lat'][:]\n",
    "lon3 = dataset3.variables['lon'][:]\n",
    "time3 = dataset3.variables['time'][:]\n",
    "dist3 = dataset3.variables['distance'][:]\n",
    "lon3[lon3>180]-=360\n",
    "lon3[lon3<-180]+=360"
   ]
  },
  {
   "cell_type": "code",
   "execution_count": 3,
   "metadata": {},
   "outputs": [],
   "source": [
    "# Distance travelled by the particles between 2002-01-01 and 2015-01-01\n",
    "finalDist1 = [dist1[:,45], dist2[:,45], dist3[:,45]]\n",
    "finalDist2 = [dist1[:,182], dist2[:,182], dist3[:,182]] \n",
    "finalDist3 = [dist1[:,-1], dist2[:,-1], dist3[:,-1]]\n",
    "\n",
    "# Difference in distance travelled between GC+FES and GC run\n",
    "finalDistDiff1 = finalDist1[1] - finalDist1[0] # after 3 months\n",
    "finalDistDiff2 = finalDist2[1] - finalDist2[0] # after 1 year\n",
    "finalDistDiff3 = finalDist3[1] - finalDist3[0] # after 13 years\n",
    "\n",
    "# Difference in distance travelled between GC+FES30 and GC run\n",
    "finalDistDiff4 = finalDist1[2] - finalDist1[0] # after 3 months\n",
    "finalDistDiff5 = finalDist2[2] - finalDist2[0] # after 1 year\n",
    "finalDistDiff6 = finalDist3[2] - finalDist3[0] # after 12 years"
   ]
  },
  {
   "cell_type": "markdown",
   "metadata": {},
   "source": [
    "## Mean differences"
   ]
  },
  {
   "cell_type": "markdown",
   "metadata": {},
   "source": [
    "The mean differences in distance travelled between the situations with and without tides, after certain amounts of time."
   ]
  },
  {
   "cell_type": "code",
   "execution_count": 4,
   "metadata": {},
   "outputs": [
    {
     "name": "stdout",
     "output_type": "stream",
     "text": [
      "GC+FES, 3 months: 55.476243817282516 km\n",
      "GC+FES, 1 year: 319.2611870817573 km\n",
      "GC+FES, 13 years: 2977.820150165881 km\n",
      "GC+FES30, 3 months: 16.589520293860925 km\n",
      "GC+FES30, 1 year: 18.030511710794297 km\n",
      "GC+FES30, 13 years: 68.90959691501746 km\n"
     ]
    }
   ],
   "source": [
    "print 'GC+FES, 3 months: ' + str(np.mean(finalDistDiff1)) + ' km'\n",
    "print 'GC+FES, 1 year: ' + str(np.mean(finalDistDiff2)) + ' km'\n",
    "print 'GC+FES, 13 years: ' + str(np.mean(finalDistDiff3)) + ' km'\n",
    "print 'GC+FES30, 3 months: ' + str(np.mean(finalDistDiff4)) + ' km'\n",
    "print 'GC+FES30, 1 year: ' + str(np.mean(finalDistDiff5)) + ' km'\n",
    "print 'GC+FES30, 13 years: ' + str(np.mean(finalDistDiff6)) + ' km'"
   ]
  },
  {
   "cell_type": "markdown",
   "metadata": {},
   "source": [
    "## Relative differences"
   ]
  },
  {
   "cell_type": "markdown",
   "metadata": {},
   "source": [
    "The relative differences are calculated as the mean absolute difference in distance travelled divided by the mean distance travelled in the GC run."
   ]
  },
  {
   "cell_type": "code",
   "execution_count": 5,
   "metadata": {},
   "outputs": [
    {
     "name": "stdout",
     "output_type": "stream",
     "text": [
      "GC+FES, 3 months: 0.052507516540573514\n",
      "GC+FES, 1 year: 0.13778315916611406\n",
      "GC+FES, 13 years: 0.19796004217671667\n",
      "GC+FES30, 3 months: 0.02798175916804088\n",
      "GC+FES30, 1 year: 0.09302823094906697\n",
      "GC+FES30, 13 years: 0.15471489593495633\n"
     ]
    }
   ],
   "source": [
    "print 'GC+FES, 3 months: ' + str(np.mean(abs(finalDistDiff1))/np.mean(finalDist1[0]))\n",
    "print 'GC+FES, 1 year: ' + str(np.mean(abs(finalDistDiff2))/np.mean(finalDist2[0]))\n",
    "print 'GC+FES, 13 years: ' + str(np.mean(abs(finalDistDiff3))/np.mean(finalDist3[0]))\n",
    "print 'GC+FES30, 3 months: ' + str(np.mean(abs(finalDistDiff4))/np.mean(finalDist1[0]))\n",
    "print 'GC+FES30, 1 year: ' + str(np.mean(abs(finalDistDiff5))/np.mean(finalDist2[0]))\n",
    "print 'GC+FES30, 13 years: ' + str(np.mean(abs(finalDistDiff6))/np.mean(finalDist3[0]))"
   ]
  },
  {
   "cell_type": "markdown",
   "metadata": {},
   "source": [
    "## Skewness"
   ]
  },
  {
   "cell_type": "markdown",
   "metadata": {},
   "source": [
    "The skewness of the distribution of distance differences and its *p*-value."
   ]
  },
  {
   "cell_type": "code",
   "execution_count": 6,
   "metadata": {},
   "outputs": [
    {
     "name": "stdout",
     "output_type": "stream",
     "text": [
      "GC+FES, 3 months: 8.54069519043\n",
      "SkewtestResult(statistic=188.13114017961857, pvalue=0.0)\n",
      "GC+FES, 1 year: 2.521027565\n",
      "SkewtestResult(statistic=114.10784066701167, pvalue=0.0)\n",
      "GC+FES, 13 years: 0.549432814121\n",
      "SkewtestResult(statistic=38.95842924495026, pvalue=0.0)\n",
      "GC+FES30, 3 months: 3.70699167252\n",
      "SkewtestResult(statistic=137.1219688720764, pvalue=0.0)\n",
      "GC+FES30, 1 year: -0.0126288784668\n",
      "SkewtestResult(statistic=-0.9559965615036358, pvalue=0.3390739716913108)\n",
      "GC+FES30, 13 years: 0.106436289847\n",
      "SkewtestResult(statistic=8.033666667666767, pvalue=9.460199601953026e-16)\n"
     ]
    }
   ],
   "source": [
    "finalDistDiff3 = finalDistDiff3[~finalDistDiff3.mask] # throw away masked points\n",
    "finalDistDiff6 = finalDistDiff6[~finalDistDiff6.mask] # throw away masked points\n",
    "\n",
    "print 'GC+FES, 3 months: ' + str(stat.skew(finalDistDiff1))\n",
    "print stat.skewtest(finalDistDiff1)\n",
    "\n",
    "print 'GC+FES, 1 year: ' + str(stat.skew(finalDistDiff2))\n",
    "print stat.skewtest(finalDistDiff2)\n",
    "\n",
    "print 'GC+FES, 13 years: ' + str(stat.skew(finalDistDiff3))\n",
    "print stat.skewtest(finalDistDiff3)\n",
    "\n",
    "print 'GC+FES30, 3 months: ' + str(stat.skew(finalDistDiff4))\n",
    "print stat.skewtest(finalDistDiff4)\n",
    "\n",
    "print 'GC+FES30, 1 year: ' + str(stat.skew(finalDistDiff5))\n",
    "print stat.skewtest(finalDistDiff5)\n",
    "\n",
    "print 'GC+FES30, 13 years: ' + str(stat.skew(finalDistDiff6))\n",
    "print stat.skewtest(finalDistDiff6)"
   ]
  }
 ],
 "metadata": {
  "kernelspec": {
   "display_name": "Python 2",
   "language": "python",
   "name": "python2"
  },
  "language_info": {
   "codemirror_mode": {
    "name": "ipython",
    "version": 2
   },
   "file_extension": ".py",
   "mimetype": "text/x-python",
   "name": "python",
   "nbconvert_exporter": "python",
   "pygments_lexer": "ipython2",
   "version": "2.7.15"
  }
 },
 "nbformat": 4,
 "nbformat_minor": 2
}
