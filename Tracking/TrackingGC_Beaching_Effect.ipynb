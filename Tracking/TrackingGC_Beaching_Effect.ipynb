{
 "cells": [
  {
   "cell_type": "markdown",
   "metadata": {},
   "source": [
    "# Checking the effect of an anti-beaching boundary current (nr of beached particles)"
   ]
  },
  {
   "cell_type": "markdown",
   "metadata": {},
   "source": [
    "*Author: Miriam Sterl*"
   ]
  },
  {
   "cell_type": "markdown",
   "metadata": {},
   "source": [
    "We want to compare the number of particles that beach ('get lost') when the anti-beaching boundary current is used and when it is not. We say that a particle has beached if its last two reported positions (48 hours apart) are the same."
   ]
  },
  {
   "cell_type": "code",
   "execution_count": 1,
   "metadata": {},
   "outputs": [],
   "source": [
    "from netCDF4 import Dataset"
   ]
  },
  {
   "cell_type": "markdown",
   "metadata": {},
   "source": [
    "## With anti-beaching current"
   ]
  },
  {
   "cell_type": "code",
   "execution_count": 2,
   "metadata": {},
   "outputs": [
    {
     "name": "stderr",
     "output_type": "stream",
     "text": [
      "/home/students/5664187/miniconda2/lib/python2.7/site-packages/ipykernel_launcher.py:7: RuntimeWarning: invalid value encountered in greater\n",
      "  import sys\n",
      "/home/students/5664187/miniconda2/lib/python2.7/site-packages/ipykernel_launcher.py:8: RuntimeWarning: invalid value encountered in less\n",
      "  \n"
     ]
    }
   ],
   "source": [
    "File1 = '/science/projects/oceanparcels/output_data/data_Miriam/Results_TrackingGC.nc'\n",
    "dataset1 = Dataset(File1)\n",
    "lat1 = dataset1.variables['lat'][:]\n",
    "lon1 = dataset1.variables['lon'][:]\n",
    "time1 = dataset1.variables['time'][:]\n",
    "lon1[lon1>180]-=360\n",
    "lon1[lon1<-180]+=360"
   ]
  },
  {
   "cell_type": "code",
   "execution_count": 3,
   "metadata": {},
   "outputs": [
    {
     "name": "stdout",
     "output_type": "stream",
     "text": [
      "The number of beached particles is 452\n",
      "The fraction/percentage of particles that beached is 0.0131510037824 (1.31510037824%)\n"
     ]
    }
   ],
   "source": [
    "numberParticles = len(time1[:,0])\n",
    "numberBeached = 0\n",
    "for i in range(numberParticles):\n",
    "    if lat1[i,-2]==lat1[i,-1]:\n",
    "        if lon1[i,-2]==lon1[i,-1]:\n",
    "            numberBeached += 1\n",
    "print 'The number of beached particles is ' + str(numberBeached)\n",
    "fractionBeached = numberBeached/float(numberParticles)\n",
    "print 'The fraction/percentage of particles that beached is ' + str(fractionBeached) + ' (' + str(fractionBeached*100) + '%)'"
   ]
  },
  {
   "cell_type": "markdown",
   "metadata": {},
   "source": [
    "## Without anti-beaching current"
   ]
  },
  {
   "cell_type": "code",
   "execution_count": 2,
   "metadata": {},
   "outputs": [
    {
     "name": "stderr",
     "output_type": "stream",
     "text": [
      "/home/students/5664187/miniconda2/lib/python2.7/site-packages/ipykernel_launcher.py:6: RuntimeWarning: invalid value encountered in greater\n",
      "  \n",
      "/home/students/5664187/miniconda2/lib/python2.7/site-packages/ipykernel_launcher.py:7: RuntimeWarning: invalid value encountered in less\n",
      "  import sys\n"
     ]
    }
   ],
   "source": [
    "File2 = '/science/projects/oceanparcels/output_data/data_Miriam/Results_TrackingGC_Beaching.nc'\n",
    "dataset2 = Dataset(File2)\n",
    "lat2 = dataset2.variables['lat'][:]\n",
    "lon2 = dataset2.variables['lon'][:]\n",
    "time2 = dataset2.variables['time'][:]\n",
    "lon2[lon2>180]-=360\n",
    "lon2[lon2<-180]+=360"
   ]
  },
  {
   "cell_type": "code",
   "execution_count": 3,
   "metadata": {},
   "outputs": [
    {
     "name": "stdout",
     "output_type": "stream",
     "text": [
      "The number of beached particles is 13467\n",
      "The fraction/percentage of particles that beached is 0.391824265348 (39.1824265348%)\n"
     ]
    }
   ],
   "source": [
    "numberParticles = len(time2[:,0])\n",
    "numberBeached = 0\n",
    "for i in range(numberParticles):\n",
    "    if lat2[i,-2]==lat2[i,-1]:\n",
    "        if lon2[i,-2]==lon2[i,-1]:\n",
    "            numberBeached += 1\n",
    "print 'The number of beached particles is ' + str(numberBeached)\n",
    "fractionBeached = numberBeached/float(numberParticles)\n",
    "print 'The fraction/percentage of particles that beached is ' + str(fractionBeached) + ' (' + str(fractionBeached*100) + '%)'"
   ]
  }
 ],
 "metadata": {
  "kernelspec": {
   "display_name": "Python 2",
   "language": "python",
   "name": "python2"
  },
  "language_info": {
   "codemirror_mode": {
    "name": "ipython",
    "version": 2
   },
   "file_extension": ".py",
   "mimetype": "text/x-python",
   "name": "python",
   "nbconvert_exporter": "python",
   "pygments_lexer": "ipython2",
   "version": "2.7.15"
  }
 },
 "nbformat": 4,
 "nbformat_minor": 2
}
